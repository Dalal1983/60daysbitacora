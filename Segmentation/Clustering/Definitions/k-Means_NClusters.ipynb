{
 "cells": [
  {
   "cell_type": "code",
   "execution_count": 1,
   "metadata": {},
   "outputs": [],
   "source": [
    "import pandas as pd\n",
    "import numpy as np\n",
    "import quandl\n",
    "import os\n",
    "from sklearn.preprocessing import LabelEncoder\n",
    "from sklearn.metrics import silhouette_score\n",
    "from scipy.stats import pearsonr\n",
    "\n",
    "from matplotlib import pyplot as plt\n",
    "import seaborn as sns\n",
    "sns.set()"
   ]
  },
  {
   "cell_type": "code",
   "execution_count": 2,
   "metadata": {},
   "outputs": [],
   "source": [
    "quandl.ApiConfig.api_key = os.environ['QUANDL_']"
   ]
  },
  {
   "cell_type": "code",
   "execution_count": 3,
   "metadata": {},
   "outputs": [],
   "source": [
    "data = quandl.get_table(\"ETFG/CONST\", paginate=True)"
   ]
  },
  {
   "cell_type": "markdown",
   "metadata": {},
   "source": [
    "# Data\n",
    "\n",
    "Data was retrieved from Quandl API, and it is about United States ETFs (Exchange Trade Funds), 25-Dec-2019. This is aimed to probe <b>k-means</b> algorithm looking the best number of clusters which to group the best number of elements minimizing the distance between them.\n",
    "\n",
    "The official data source can be retrieved from https://www.quandl.com/databases/ETFC/documentation."
   ]
  },
  {
   "cell_type": "code",
   "execution_count": 4,
   "metadata": {},
   "outputs": [],
   "source": [
    "data = data[\n",
    "            [\n",
    "                'composite_ticker',\n",
    "                'country_of_exchange',\n",
    "                'currency_traded',\n",
    "                'asset_class',\n",
    "                'security_type',\n",
    "                'market_value',\n",
    "                'shares_held'\n",
    "            ]\n",
    "        ]"
   ]
  },
  {
   "cell_type": "markdown",
   "metadata": {},
   "source": [
    "Data used in this excersice is based in seven columns, which are as follow:\n",
    "- <b>composite_ticker</b> : Ticker identifier for the ETP\n",
    "- <b>country_of_exchange</b> : Country code for the country in which exchange is located\n",
    "- <b>currency_traded</b> : Currency code for the local currency of the traded constituent security\n",
    "- <b>asset_class</b> : Asset class of the underlying constituent. Possible values: Commodities, Equity, Fixed Income, or Real Estate\n",
    "- <b>security_type</b> : ETF Global taxonomy classification of the underlying constituent, e.g. common equity, domestic, global, etc.\n",
    "- <b>market_value</b> : Market value of the underlying constituent in USD\n",
    "- <b>shares_held</b> : Number of shares of the underlying constituent held by the ETP"
   ]
  },
  {
   "cell_type": "markdown",
   "metadata": {},
   "source": [
    "# Categorial Variables Encodig\n",
    "\n",
    "Based on https://pbpython.com/categorical-encoding.html\n",
    "\n",
    "The categorical variables encoding to help to transform categorical variables into numerical values which could be used into segmentation's algorithms, like some used in clustering, like k-means, because major of this algorithms to use numerical calculations which can't be done using categorical values.\n",
    "\n",
    "Original variables are hold same, but transformed values will be the same column name adding \"_code\" in the end of the name."
   ]
  },
  {
   "cell_type": "code",
   "execution_count": 5,
   "metadata": {},
   "outputs": [],
   "source": [
    "lb_make = LabelEncoder()\n",
    "\n",
    "columns_to_label_encode = [\n",
    "                                'composite_ticker',\n",
    "                                'country_of_exchange',\n",
    "                                'currency_traded',\n",
    "                                'asset_class',\n",
    "                                'security_type',\n",
    "                            ]\n",
    "\n",
    "for column_i in columns_to_label_encode:\n",
    "    data[column_i].fillna('***', inplace=True)\n",
    "    data[column_i+\"_code\"] = lb_make.fit_transform(data[column_i])"
   ]
  },
  {
   "cell_type": "code",
   "execution_count": 6,
   "metadata": {},
   "outputs": [
    {
     "data": {
      "text/html": [
       "<div>\n",
       "<style scoped>\n",
       "    .dataframe tbody tr th:only-of-type {\n",
       "        vertical-align: middle;\n",
       "    }\n",
       "\n",
       "    .dataframe tbody tr th {\n",
       "        vertical-align: top;\n",
       "    }\n",
       "\n",
       "    .dataframe thead th {\n",
       "        text-align: right;\n",
       "    }\n",
       "</style>\n",
       "<table border=\"1\" class=\"dataframe\">\n",
       "  <thead>\n",
       "    <tr style=\"text-align: right;\">\n",
       "      <th></th>\n",
       "      <th>composite_ticker</th>\n",
       "      <th>country_of_exchange</th>\n",
       "      <th>currency_traded</th>\n",
       "      <th>asset_class</th>\n",
       "      <th>security_type</th>\n",
       "      <th>market_value</th>\n",
       "      <th>shares_held</th>\n",
       "      <th>composite_ticker_code</th>\n",
       "      <th>country_of_exchange_code</th>\n",
       "      <th>currency_traded_code</th>\n",
       "      <th>asset_class_code</th>\n",
       "      <th>security_type_code</th>\n",
       "    </tr>\n",
       "    <tr>\n",
       "      <th>None</th>\n",
       "      <th></th>\n",
       "      <th></th>\n",
       "      <th></th>\n",
       "      <th></th>\n",
       "      <th></th>\n",
       "      <th></th>\n",
       "      <th></th>\n",
       "      <th></th>\n",
       "      <th></th>\n",
       "      <th></th>\n",
       "      <th></th>\n",
       "      <th></th>\n",
       "    </tr>\n",
       "  </thead>\n",
       "  <tbody>\n",
       "    <tr>\n",
       "      <th>0</th>\n",
       "      <td>EEM</td>\n",
       "      <td>KR</td>\n",
       "      <td>KRW</td>\n",
       "      <td>Equity</td>\n",
       "      <td>Common Stock</td>\n",
       "      <td>1.241176e+09</td>\n",
       "      <td>661882.0</td>\n",
       "      <td>0</td>\n",
       "      <td>27</td>\n",
       "      <td>18</td>\n",
       "      <td>1</td>\n",
       "      <td>4</td>\n",
       "    </tr>\n",
       "    <tr>\n",
       "      <th>1</th>\n",
       "      <td>EEM</td>\n",
       "      <td>HK</td>\n",
       "      <td>HKD</td>\n",
       "      <td>Equity</td>\n",
       "      <td>Common Stock</td>\n",
       "      <td>1.107548e+09</td>\n",
       "      <td>38217800.0</td>\n",
       "      <td>0</td>\n",
       "      <td>19</td>\n",
       "      <td>12</td>\n",
       "      <td>1</td>\n",
       "      <td>4</td>\n",
       "    </tr>\n",
       "    <tr>\n",
       "      <th>2</th>\n",
       "      <td>EEM</td>\n",
       "      <td>TW</td>\n",
       "      <td>TWD</td>\n",
       "      <td>Equity</td>\n",
       "      <td>Common Stock</td>\n",
       "      <td>1.031585e+09</td>\n",
       "      <td>165613000.0</td>\n",
       "      <td>0</td>\n",
       "      <td>42</td>\n",
       "      <td>31</td>\n",
       "      <td>1</td>\n",
       "      <td>4</td>\n",
       "    </tr>\n",
       "    <tr>\n",
       "      <th>3</th>\n",
       "      <td>EEM</td>\n",
       "      <td>US</td>\n",
       "      <td>USD</td>\n",
       "      <td>Equity</td>\n",
       "      <td>ADR</td>\n",
       "      <td>8.121157e+08</td>\n",
       "      <td>7553159.0</td>\n",
       "      <td>0</td>\n",
       "      <td>43</td>\n",
       "      <td>32</td>\n",
       "      <td>1</td>\n",
       "      <td>1</td>\n",
       "    </tr>\n",
       "    <tr>\n",
       "      <th>4</th>\n",
       "      <td>EEM</td>\n",
       "      <td>ZA</td>\n",
       "      <td>ZAR</td>\n",
       "      <td>Equity</td>\n",
       "      <td>Common Stock</td>\n",
       "      <td>5.195372e+08</td>\n",
       "      <td>2946680.0</td>\n",
       "      <td>0</td>\n",
       "      <td>44</td>\n",
       "      <td>33</td>\n",
       "      <td>1</td>\n",
       "      <td>4</td>\n",
       "    </tr>\n",
       "  </tbody>\n",
       "</table>\n",
       "</div>"
      ],
      "text/plain": [
       "     composite_ticker country_of_exchange currency_traded asset_class  \\\n",
       "None                                                                    \n",
       "0                 EEM                  KR             KRW      Equity   \n",
       "1                 EEM                  HK             HKD      Equity   \n",
       "2                 EEM                  TW             TWD      Equity   \n",
       "3                 EEM                  US             USD      Equity   \n",
       "4                 EEM                  ZA             ZAR      Equity   \n",
       "\n",
       "     security_type  market_value  shares_held  composite_ticker_code  \\\n",
       "None                                                                   \n",
       "0     Common Stock  1.241176e+09     661882.0                      0   \n",
       "1     Common Stock  1.107548e+09   38217800.0                      0   \n",
       "2     Common Stock  1.031585e+09  165613000.0                      0   \n",
       "3              ADR  8.121157e+08    7553159.0                      0   \n",
       "4     Common Stock  5.195372e+08    2946680.0                      0   \n",
       "\n",
       "      country_of_exchange_code  currency_traded_code  asset_class_code  \\\n",
       "None                                                                     \n",
       "0                           27                    18                 1   \n",
       "1                           19                    12                 1   \n",
       "2                           42                    31                 1   \n",
       "3                           43                    32                 1   \n",
       "4                           44                    33                 1   \n",
       "\n",
       "      security_type_code  \n",
       "None                      \n",
       "0                      4  \n",
       "1                      4  \n",
       "2                      4  \n",
       "3                      1  \n",
       "4                      4  "
      ]
     },
     "execution_count": 6,
     "metadata": {},
     "output_type": "execute_result"
    }
   ],
   "source": [
    "data.head()"
   ]
  },
  {
   "cell_type": "markdown",
   "metadata": {},
   "source": [
    "# Elbow Method\n",
    "\n",
    "This is an heuristic method, looking to find the best number of clusters which could be used to group information, trying step by step, increasing the number of clusters and assessing the difference in SSE (Sum Squared Error) between steps.\n",
    "\n",
    "reference: http://www.iosrjen.org/Papers/Conf.19017-2019/Volume-2/8.%2041-45.pdf"
   ]
  },
  {
   "cell_type": "code",
   "execution_count": 7,
   "metadata": {},
   "outputs": [],
   "source": [
    "from sklearn.cluster import KMeans\n",
    "from scipy.spatial import distance"
   ]
  },
  {
   "cell_type": "code",
   "execution_count": 8,
   "metadata": {},
   "outputs": [],
   "source": [
    "iterations_ = 20\n",
    "sse_ = {}\n",
    "\n",
    "columns_2_process = [\n",
    "                    'composite_ticker_code',\n",
    "                    'country_of_exchange_code',\n",
    "                    'currency_traded_code',\n",
    "                    'asset_class_code',\n",
    "                    'security_type_code',\n",
    "                    'market_value',\n",
    "                    'shares_held'\n",
    "                ]\n",
    "\n",
    "for number_of_clusters in range(2,iterations_+1):\n",
    "    data_2_process = data.copy()\n",
    "    \n",
    "    data_2_process = data_2_process[columns_2_process]\n",
    "    \n",
    "    kmeans = KMeans(init='k-means++', n_clusters=number_of_clusters, n_init=10)\n",
    "    kmeans.fit(data_2_process)\n",
    "\n",
    "    data_2_process['labels'] = kmeans.labels_\n",
    "    data_2_process['centroid'] = [kmeans.cluster_centers_[i] for i in data_2_process['labels']]\n",
    "    # kmeans.cluster_centers_\n",
    "\n",
    "    data_2_process['sse']  = [\n",
    "                        distance.sqeuclidean(\n",
    "                            [\n",
    "                                v['composite_ticker_code'],\n",
    "                                v['country_of_exchange_code'],\n",
    "                                v['currency_traded_code'],\n",
    "                                v['asset_class_code'],\n",
    "                                v['security_type_code'],\n",
    "                                v['market_value'],\n",
    "                                v['shares_held'],\n",
    "                            ],\n",
    "                            v['centroid']\n",
    "                        )\n",
    "                        for i, v in data_2_process.iterrows()\n",
    "                    ]\n",
    "    \n",
    "    sse_['iteration_'+str(number_of_clusters)] = {\n",
    "                                'n_clusters' : number_of_clusters,\n",
    "                                'sse' : data_2_process['sse'].sum(),\n",
    "                                'silhouette_score' : silhouette_score(\n",
    "                                                        data_2_process[columns_2_process],\n",
    "                                                        data_2_process['labels']\n",
    "                                                        ),\n",
    "                                'labels' : data_2_process[['labels']].T.values.tolist()[0]\n",
    "                                }\n",
    "    del data_2_process"
   ]
  },
  {
   "cell_type": "code",
   "execution_count": 9,
   "metadata": {},
   "outputs": [],
   "source": [
    "df_see = pd.DataFrame\\\n",
    "            .from_dict(sse_)\\\n",
    "            .T\\\n",
    "            .reset_index(drop=False)\\\n",
    "            .rename(columns={'index':'iteration'})"
   ]
  },
  {
   "cell_type": "code",
   "execution_count": 10,
   "metadata": {},
   "outputs": [],
   "source": [
    "df_see['see_pct_change'] = df_see['sse'].pct_change() * 100"
   ]
  },
  {
   "cell_type": "code",
   "execution_count": 11,
   "metadata": {},
   "outputs": [],
   "source": [
    "elbow_point = df_see[df_see['see_pct_change'] > -20]\\\n",
    "                .sort_values('sse', ascending=False)\\\n",
    "                .reset_index(drop=True)\\\n",
    "                .iloc[0]"
   ]
  },
  {
   "cell_type": "code",
   "execution_count": 12,
   "metadata": {},
   "outputs": [
    {
     "data": {
      "text/plain": [
       "iteration                                                iteration_10\n",
       "n_clusters                                                         10\n",
       "sse                                                       2.10842e+19\n",
       "silhouette_score                                             0.739979\n",
       "labels              [3, 3, 3, 3, 7, 7, 7, 7, 7, 7, 7, 7, 7, 7, 7, ...\n",
       "see_pct_change                                               -16.1607\n",
       "Name: 0, dtype: object"
      ]
     },
     "execution_count": 12,
     "metadata": {},
     "output_type": "execute_result"
    }
   ],
   "source": [
    "elbow_point"
   ]
  },
  {
   "cell_type": "code",
   "execution_count": 13,
   "metadata": {},
   "outputs": [
    {
     "data": {
      "image/png": "[encoded data removed]",
      "text/plain": [
       "<Figure size 1080x720 with 1 Axes>"
      ]
     },
     "metadata": {
      "needs_background": "light"
     },
     "output_type": "display_data"
    }
   ],
   "source": [
    "plt.figure(figsize=(15,10))\n",
    "\n",
    "plt.plot(df_see['n_clusters'], df_see['sse'])\n",
    "plt.xlabel('Number of Clusters')\n",
    "plt.ylabel('Sum Squared Error')\n",
    "plt.title('Elbow Method : Comparison Number of clusters and SSE', fontsize=20)\n",
    "\n",
    "plt.scatter(elbow_point['n_clusters'], elbow_point['sse'], c='red')\n",
    "\n",
    "plt.show()"
   ]
  },
  {
   "cell_type": "markdown",
   "metadata": {},
   "source": [
    "Above we can see the curve where the number of clusters reduce the sum squared error (SSE), but in some point, adding one cluster don't improve SSE significatly. For this reason, the target using Elbow Method is to find the pair (number_of_clusters, sse) which increasing one more of number_of_clusters do not improve much the SSE metric, in this case, 10 clusters."
   ]
  },
  {
   "cell_type": "markdown",
   "metadata": {},
   "source": [
    "# Silhouette Score\n",
    "\n",
    "Is a score, which tell us the distance bwteen one sample in a cluster and its neighboring clusters. This score could take -1 to 1 value, meaning -1 the sample is in wrong cluster, 0 means the sample is nearest to boundary decision, and 1 is the sample is far away from its neighboring clusters which is very good.\n",
    "\n",
    "references:\n",
    "* https://scikit-learn.org/stable/auto_examples/cluster/plot_kmeans_silhouette_analysis.html\n",
    "* https://medium.com/@jyotiyadav99111/selecting-optimal-number-of-clusters-in-kmeans-algorithm-silhouette-score-c0d9ebb11308"
   ]
  },
  {
   "cell_type": "code",
   "execution_count": 14,
   "metadata": {},
   "outputs": [
    {
     "data": {
      "image/png": "[encoded data removed]",
      "text/plain": [
       "<Figure size 1080x720 with 1 Axes>"
      ]
     },
     "metadata": {
      "needs_background": "light"
     },
     "output_type": "display_data"
    }
   ],
   "source": [
    "plt.figure(figsize=(15,10))\n",
    "\n",
    "plt.plot(df_see['n_clusters'], df_see['silhouette_score'])\n",
    "plt.xlabel('Number of Clusters')\n",
    "plt.ylabel('Silhouette Score')\n",
    "plt.title('Silhouette Score : Comparison Number of clusters and Silhouette Score', fontsize=20)\n",
    "\n",
    "plt.show()"
   ]
  },
  {
   "cell_type": "markdown",
   "metadata": {},
   "source": [
    "The image above shows how in all combinations of number of clusters, the silhouette score is above 0.5 which means all samples have a highest distance between them and neighboring clusters than its own clusters, meaning too they was tagged in the right cluster."
   ]
  },
  {
   "cell_type": "markdown",
   "metadata": {},
   "source": [
    "# Analysis\n"
   ]
  },
  {
   "cell_type": "code",
   "execution_count": 15,
   "metadata": {},
   "outputs": [],
   "source": [
    "data['label'] = df_see[df_see['n_clusters'] == elbow_point['n_clusters']]['labels'].tolist()[0]"
   ]
  },
  {
   "cell_type": "code",
   "execution_count": 16,
   "metadata": {},
   "outputs": [],
   "source": [
    "data_analysis = data\\\n",
    "                .groupby(['label']+columns_to_label_encode)\\\n",
    "                .agg({'market_value':'sum','shares_held':'sum','composite_ticker_code':'count'})\\\n",
    "                .rename(columns={'composite_ticker_code':'count'})\\\n",
    "                .reset_index(drop=False)"
   ]
  },
  {
   "cell_type": "code",
   "execution_count": 17,
   "metadata": {},
   "outputs": [
    {
     "data": {
      "text/html": [
       "<div>\n",
       "<style scoped>\n",
       "    .dataframe tbody tr th:only-of-type {\n",
       "        vertical-align: middle;\n",
       "    }\n",
       "\n",
       "    .dataframe tbody tr th {\n",
       "        vertical-align: top;\n",
       "    }\n",
       "\n",
       "    .dataframe thead th {\n",
       "        text-align: right;\n",
       "    }\n",
       "</style>\n",
       "<table border=\"1\" class=\"dataframe\">\n",
       "  <thead>\n",
       "    <tr style=\"text-align: right;\">\n",
       "      <th></th>\n",
       "      <th>label</th>\n",
       "      <th>composite_ticker</th>\n",
       "      <th>country_of_exchange</th>\n",
       "      <th>currency_traded</th>\n",
       "      <th>asset_class</th>\n",
       "      <th>security_type</th>\n",
       "      <th>market_value</th>\n",
       "      <th>shares_held</th>\n",
       "      <th>count</th>\n",
       "    </tr>\n",
       "  </thead>\n",
       "  <tbody>\n",
       "    <tr>\n",
       "      <th>0</th>\n",
       "      <td>0</td>\n",
       "      <td>EEM</td>\n",
       "      <td>***</td>\n",
       "      <td>***</td>\n",
       "      <td>***</td>\n",
       "      <td>***</td>\n",
       "      <td>-12728462.32</td>\n",
       "      <td>386213368.0</td>\n",
       "      <td>1</td>\n",
       "    </tr>\n",
       "    <tr>\n",
       "      <th>1</th>\n",
       "      <td>0</td>\n",
       "      <td>EEM</td>\n",
       "      <td>***</td>\n",
       "      <td>BRL</td>\n",
       "      <td>Equity</td>\n",
       "      <td>Receipt</td>\n",
       "      <td>1298274.19</td>\n",
       "      <td>417460.0</td>\n",
       "      <td>1</td>\n",
       "    </tr>\n",
       "    <tr>\n",
       "      <th>2</th>\n",
       "      <td>0</td>\n",
       "      <td>EEM</td>\n",
       "      <td>***</td>\n",
       "      <td>EUR</td>\n",
       "      <td>***</td>\n",
       "      <td>***</td>\n",
       "      <td>7876195.31</td>\n",
       "      <td>44149034.2</td>\n",
       "      <td>2</td>\n",
       "    </tr>\n",
       "    <tr>\n",
       "      <th>3</th>\n",
       "      <td>0</td>\n",
       "      <td>EEM</td>\n",
       "      <td>***</td>\n",
       "      <td>HUF</td>\n",
       "      <td>***</td>\n",
       "      <td>***</td>\n",
       "      <td>16550606.33</td>\n",
       "      <td>237952.0</td>\n",
       "      <td>1</td>\n",
       "    </tr>\n",
       "    <tr>\n",
       "      <th>4</th>\n",
       "      <td>0</td>\n",
       "      <td>EEM</td>\n",
       "      <td>***</td>\n",
       "      <td>QAR</td>\n",
       "      <td>Equity</td>\n",
       "      <td>Right</td>\n",
       "      <td>158955.18</td>\n",
       "      <td>117149.0</td>\n",
       "      <td>1</td>\n",
       "    </tr>\n",
       "  </tbody>\n",
       "</table>\n",
       "</div>"
      ],
      "text/plain": [
       "   label composite_ticker country_of_exchange currency_traded asset_class  \\\n",
       "0      0              EEM                 ***             ***         ***   \n",
       "1      0              EEM                 ***             BRL      Equity   \n",
       "2      0              EEM                 ***             EUR         ***   \n",
       "3      0              EEM                 ***             HUF         ***   \n",
       "4      0              EEM                 ***             QAR      Equity   \n",
       "\n",
       "  security_type  market_value  shares_held  count  \n",
       "0           ***  -12728462.32  386213368.0      1  \n",
       "1       Receipt    1298274.19     417460.0      1  \n",
       "2           ***    7876195.31   44149034.2      2  \n",
       "3           ***   16550606.33     237952.0      1  \n",
       "4         Right     158955.18     117149.0      1  "
      ]
     },
     "execution_count": 17,
     "metadata": {},
     "output_type": "execute_result"
    }
   ],
   "source": [
    "data_analysis.head()"
   ]
  },
  {
   "cell_type": "markdown",
   "metadata": {},
   "source": [
    "The bigest cluster was the cluster with name cero (0), having 1937 samples, which is the 83.27% of all data. The bigest cluster is no adequately who has the most bigest amount in market value, but it has me bigest amount in shares held.\n",
    "\n",
    "Over this cluster is analyzed some values, as follow, excluding outliers above 90 percentile and below 10 percentile."
   ]
  },
  {
   "cell_type": "markdown",
   "metadata": {},
   "source": [
    "TO BE CONTINUE ::::: >>>>>"
   ]
  },
  {
   "cell_type": "markdown",
   "metadata": {},
   "source": [
    "<hr>"
   ]
  },
  {
   "cell_type": "markdown",
   "metadata": {},
   "source": [
    "This could not to be the final version, so if you have some recommendation or comment about this, I will be grateful to hear it, using e-mail <b>craquinterogo@unal.edu.co</b> or <b>cristian.quintero@est.uexternado.edu.co</b>"
   ]
  }
 ],
 "metadata": {
  "kernelspec": {
   "display_name": "Python 3",
   "language": "python",
   "name": "python3"
  },
  "language_info": {
   "codemirror_mode": {
    "name": "ipython",
    "version": 3
   },
   "file_extension": ".py",
   "mimetype": "text/x-python",
   "name": "python",
   "nbconvert_exporter": "python",
   "pygments_lexer": "ipython3",
   "version": "3.6.9"
  },
  "toc": {
   "base_numbering": 1,
   "nav_menu": {},
   "number_sections": true,
   "sideBar": true,
   "skip_h1_title": false,
   "title_cell": "Table of Contents",
   "title_sidebar": "Contents",
   "toc_cell": false,
   "toc_position": {},
   "toc_section_display": true,
   "toc_window_display": true
  }
 },
 "nbformat": 4,
 "nbformat_minor": 2
}
